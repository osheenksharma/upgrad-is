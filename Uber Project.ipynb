{
 "cells": [
  {
   "cell_type": "code",
   "execution_count": 2,
   "id": "6b040ed4",
   "metadata": {},
   "outputs": [],
   "source": [
    "#Import the required libraries\n",
    "\n",
    "import pandas as pd\n",
    "import numpy as np\n",
    "from sklearn.preprocessing import MinMaxScaler, StandardScaler\n",
    "from sklearn.impute import SimpleImputer\n",
    "from sklearn.ensemble import RandomForestRegressor\n",
    "from sklearn.feature_selection import RFE\n",
    "from sklearn.feature_selection import SelectKBest, f_regression\n",
    "from sklearn.linear_model import LinearRegression\n",
    "from sklearn.model_selection import train_test_split, KFold, TimeSeriesSplit\n",
    "from sklearn.metrics import mean_absolute_error, mean_squared_error, r2_score\n",
    "import seaborn as sns\n",
    "import matplotlib.pyplot as plt"
   ]
  },
  {
   "cell_type": "code",
   "execution_count": 3,
   "id": "7940c6e6",
   "metadata": {},
   "outputs": [],
   "source": [
    "#Load the dataset into a Pandas DataFrame\n",
    "df = pd.read_csv('Dataset_Uber Traffic.csv')"
   ]
  },
  {
   "cell_type": "code",
   "execution_count": 5,
   "id": "eddcb5f0",
   "metadata": {},
   "outputs": [
    {
     "name": "stdout",
     "output_type": "stream",
     "text": [
      "        DateTime  Junction  Vehicles           ID\n",
      "0  01/11/15 0:00         1        15  20151101001\n",
      "1  01/11/15 1:00         1        13  20151101011\n",
      "2  01/11/15 2:00         1        10  20151101021\n",
      "3  01/11/15 3:00         1         7  20151101031\n",
      "4  01/11/15 4:00         1         9  20151101041\n"
     ]
    }
   ],
   "source": [
    "#Display the first few rows of the dataset\n",
    "print(df.head())"
   ]
  },
  {
   "cell_type": "code",
   "execution_count": 6,
   "id": "09ecab97",
   "metadata": {},
   "outputs": [
    {
     "name": "stdout",
     "output_type": "stream",
     "text": [
      "           Junction      Vehicles            ID\n",
      "count  48120.000000  48120.000000  4.812000e+04\n",
      "mean       2.180549     22.791334  2.016330e+10\n",
      "std        0.966955     20.750063  5.944854e+06\n",
      "min        1.000000      1.000000  2.015110e+10\n",
      "25%        1.000000      9.000000  2.016042e+10\n",
      "50%        2.000000     15.000000  2.016093e+10\n",
      "75%        3.000000     29.000000  2.017023e+10\n",
      "max        4.000000    180.000000  2.017063e+10\n"
     ]
    }
   ],
   "source": [
    "#Summary statistics\n",
    "print(df.describe())"
   ]
  },
  {
   "cell_type": "code",
   "execution_count": 7,
   "id": "3a91f7fc",
   "metadata": {},
   "outputs": [
    {
     "name": "stdout",
     "output_type": "stream",
     "text": [
      "<class 'pandas.core.frame.DataFrame'>\n",
      "RangeIndex: 48120 entries, 0 to 48119\n",
      "Data columns (total 4 columns):\n",
      " #   Column    Non-Null Count  Dtype \n",
      "---  ------    --------------  ----- \n",
      " 0   DateTime  48120 non-null  object\n",
      " 1   Junction  48120 non-null  int64 \n",
      " 2   Vehicles  48120 non-null  int64 \n",
      " 3   ID        48120 non-null  int64 \n",
      "dtypes: int64(3), object(1)\n",
      "memory usage: 1.5+ MB\n",
      "None\n"
     ]
    }
   ],
   "source": [
    "#Information about the dataset\n",
    "print(df.info())"
   ]
  },
  {
   "cell_type": "code",
   "execution_count": 8,
   "id": "ba8d71f6",
   "metadata": {},
   "outputs": [
    {
     "name": "stdout",
     "output_type": "stream",
     "text": [
      "DateTime    0\n",
      "Junction    0\n",
      "Vehicles    0\n",
      "ID          0\n",
      "dtype: int64\n"
     ]
    }
   ],
   "source": [
    "#Check for missing values\n",
    "print(df.isnull().sum())"
   ]
  },
  {
   "cell_type": "code",
   "execution_count": 9,
   "id": "044d422b",
   "metadata": {},
   "outputs": [
    {
     "name": "stdout",
     "output_type": "stream",
     "text": [
      "0\n"
     ]
    }
   ],
   "source": [
    "#Since there are no missing values, we proceed with cleaning the dataset.\n",
    "#Identify duplicates\n",
    "print(df.duplicated().sum())"
   ]
  },
  {
   "cell_type": "code",
   "execution_count": 4,
   "id": "c495d916",
   "metadata": {},
   "outputs": [
    {
     "name": "stdout",
     "output_type": "stream",
     "text": [
      "DateTime      object\n",
      "Junction    category\n",
      "Vehicles       int64\n",
      "ID          category\n",
      "dtype: object\n"
     ]
    }
   ],
   "source": [
    "#Convert 'Junction' and 'ID' columns to categorical data types\n",
    "df['Junction'] = df['Junction'].astype('category')\n",
    "df['ID'] = df['ID'].astype('category')\n",
    "\n",
    "#Display updated data types\n",
    "print(df.dtypes)"
   ]
  },
  {
   "cell_type": "code",
   "execution_count": 11,
   "id": "874bb6db",
   "metadata": {},
   "outputs": [],
   "source": [
    "#To aggregate traffic data-\n",
    "#Step 1: Parse DateTime column\n",
    "df['DateTime'] = pd.to_datetime(df['DateTime'])"
   ]
  },
  {
   "cell_type": "code",
   "execution_count": 12,
   "id": "02d3e24a",
   "metadata": {},
   "outputs": [],
   "source": [
    "#Step 2: Set DateTime as index\n",
    "df.set_index('DateTime', inplace=True)"
   ]
  },
  {
   "cell_type": "code",
   "execution_count": 13,
   "id": "4dae43bd",
   "metadata": {},
   "outputs": [],
   "source": [
    "#Step 3: Group by Junction and resample the data to hourly intervals, aggregating the relevant data \n",
    "#(vehicle counts, speeds, and congestion levels)\n",
    "hourly_traffic = df.groupby('Junction').resample('H').sum()"
   ]
  },
  {
   "cell_type": "code",
   "execution_count": 14,
   "id": "756dc88d",
   "metadata": {},
   "outputs": [
    {
     "name": "stdout",
     "output_type": "stream",
     "text": [
      "       Junction  Vehicles           ID\n",
      "0             1        15  20151101001\n",
      "1             1        13  20151101011\n",
      "2             1        10  20151101021\n",
      "3             1         7  20151101031\n",
      "4             1         9  20151101041\n",
      "...         ...       ...          ...\n",
      "84547         4        10  20170612194\n",
      "84548         4         7  20170612204\n",
      "84549         4         8  20170612214\n",
      "84550         4        11  20170612224\n",
      "84551         4        11  20170612234\n",
      "\n",
      "[84552 rows x 3 columns]\n"
     ]
    }
   ],
   "source": [
    "#Step 4: Reset the index to have a clean DataFrame\n",
    "hourly_traffic = hourly_traffic.reset_index(drop=True)\n",
    "\n",
    "print(hourly_traffic)"
   ]
  },
  {
   "cell_type": "code",
   "execution_count": 15,
   "id": "d11b0fb1",
   "metadata": {},
   "outputs": [
    {
     "name": "stdout",
     "output_type": "stream",
     "text": [
      "   Junction  Vehicles            ID\n",
      "0       0.0  0.078212  0.000000e+00\n",
      "1       0.0  0.067039  5.120530e-07\n",
      "2       0.0  0.050279  1.024106e-06\n",
      "3       0.0  0.033520  1.536159e-06\n",
      "4       0.0  0.044693  2.048212e-06\n"
     ]
    }
   ],
   "source": [
    "#Extract the numerical columns to be normalized or standardized\n",
    "numerical_columns = ['Junction', 'Vehicles', 'ID']\n",
    "\n",
    "#Normalize the data\n",
    "scaler = MinMaxScaler()\n",
    "normalized_data = scaler.fit_transform(df[numerical_columns])\n",
    "df_normalized = pd.DataFrame(normalized_data, columns=numerical_columns)\n",
    "print(df_normalized.head())"
   ]
  },
  {
   "cell_type": "code",
   "execution_count": 16,
   "id": "ff5c0fc2",
   "metadata": {},
   "outputs": [],
   "source": [
    "#Creating new features from raw data\n",
    "#Step 1: Time-Based Features\n",
    "df['DateTime'] = df.index\n",
    "\n",
    "#Now, let's proceed with extracting time-based features\n",
    "df['Hour'] = df['DateTime'].dt.hour\n",
    "df['DayOfWeek'] = df['DateTime'].dt.dayofweek  # Monday=0, Sunday=6\n",
    "df['Month'] = df['DateTime'].dt.month"
   ]
  },
  {
   "cell_type": "code",
   "execution_count": 17,
   "id": "d143e9d3",
   "metadata": {},
   "outputs": [],
   "source": [
    "#Step 2: Lag Features (Example: Previous Hour Traffic Data)\n",
    "df['PreviousHourVehicles'] = df['Vehicles'].shift(1)"
   ]
  },
  {
   "cell_type": "code",
   "execution_count": 18,
   "id": "857cf328",
   "metadata": {},
   "outputs": [
    {
     "name": "stdout",
     "output_type": "stream",
     "text": [
      "                     Junction  Vehicles           ID            DateTime  \\\n",
      "DateTime                                                                   \n",
      "2015-01-11 00:00:00         1        15  20151101001 2015-01-11 00:00:00   \n",
      "2015-01-11 01:00:00         1        13  20151101011 2015-01-11 01:00:00   \n",
      "2015-01-11 02:00:00         1        10  20151101021 2015-01-11 02:00:00   \n",
      "2015-01-11 03:00:00         1         7  20151101031 2015-01-11 03:00:00   \n",
      "2015-01-11 04:00:00         1         9  20151101041 2015-01-11 04:00:00   \n",
      "\n",
      "                     Hour  DayOfWeek  Month  PreviousHourVehicles  IsWeekend  \n",
      "DateTime                                                                      \n",
      "2015-01-11 00:00:00     0          6      1                   NaN          1  \n",
      "2015-01-11 01:00:00     1          6      1                  15.0          1  \n",
      "2015-01-11 02:00:00     2          6      1                  13.0          1  \n",
      "2015-01-11 03:00:00     3          6      1                  10.0          1  \n",
      "2015-01-11 04:00:00     4          6      1                   7.0          1  \n"
     ]
    }
   ],
   "source": [
    "#Step 3: Binary Indicators\n",
    "df['IsWeekend'] = df['DayOfWeek'].isin([5, 6]).astype(int)  # 1 for weekends, 0 for weekdays\n",
    "print(df.head())"
   ]
  },
  {
   "cell_type": "code",
   "execution_count": 19,
   "id": "a7cfc066",
   "metadata": {},
   "outputs": [
    {
     "name": "stderr",
     "output_type": "stream",
     "text": [
      "C:\\Users\\HP\\AppData\\Local\\Temp\\ipykernel_16692\\1651157843.py:4: FutureWarning: The default value of numeric_only in DataFrame.corr is deprecated. In a future version, it will default to False. Select only valid columns or specify the value of numeric_only to silence this warning.\n",
      "  correlation_matrix = df.corr()\n"
     ]
    },
    {
     "name": "stdout",
     "output_type": "stream",
     "text": [
      "Correlation with Target (Vehicles):\n",
      " Vehicles                1.000000\n",
      "PreviousHourVehicles    0.969982\n",
      "Junction                0.613787\n",
      "ID                      0.227974\n",
      "Hour                    0.219938\n",
      "IsWeekend               0.096628\n",
      "DayOfWeek               0.084059\n",
      "Month                   0.016758\n",
      "Name: Vehicles, dtype: float64\n"
     ]
    },
    {
     "data": {
      "image/png": "[encoded data removed]",
      "text/plain": [
       "<Figure size 1000x800 with 2 Axes>"
      ]
     },
     "metadata": {},
     "output_type": "display_data"
    }
   ],
   "source": [
    "#Evaluating feature importance\n",
    "#Step 1: Correlation Analysis\n",
    "correlation_matrix = df.corr()\n",
    "target_correlation = correlation_matrix['Vehicles'].abs().sort_values(ascending=False)\n",
    "print(\"Correlation with Target (Vehicles):\\n\", target_correlation)\n",
    "\n",
    "#Create heatmap for correlation matrix\n",
    "plt.figure(figsize=(10, 8))\n",
    "sns.heatmap(correlation_matrix, annot=True, cmap='coolwarm', fmt=\".2f\", linewidths=0.5)\n",
    "plt.title('Correlation Matrix')\n",
    "plt.show()"
   ]
  },
  {
   "cell_type": "code",
   "execution_count": 20,
   "id": "74c4aa7b",
   "metadata": {},
   "outputs": [
    {
     "name": "stdout",
     "output_type": "stream",
     "text": [
      "\n",
      "Feature Importance from Random Forest:\n",
      " PreviousHourVehicles    0.948470\n",
      "Hour                    0.024696\n",
      "Month                   0.011182\n",
      "DayOfWeek               0.008013\n",
      "Junction                0.006610\n",
      "IsWeekend               0.001029\n",
      "dtype: float64\n"
     ]
    }
   ],
   "source": [
    "#Step 2: Feature Importance from Random Forest\n",
    "X = df.drop(['Vehicles', 'DateTime', 'ID'], axis=1)  \n",
    "X['Hour'] = df['DateTime'].dt.hour  \n",
    "y = df['Vehicles']\n",
    "\n",
    "#Impute missing values in X\n",
    "imputer = SimpleImputer(strategy='mean')\n",
    "X_imputed = imputer.fit_transform(X)\n",
    "\n",
    "#Train RandomForestRegressor on the imputed data\n",
    "rf = RandomForestRegressor(n_estimators=100, random_state=42)\n",
    "rf.fit(X_imputed, y)\n",
    "\n",
    "#Extract feature importance scores\n",
    "feature_importance_rf = pd.Series(rf.feature_importances_, index=X.columns).sort_values(ascending=False)\n",
    "print(\"\\nFeature Importance from Random Forest:\\n\", feature_importance_rf)"
   ]
  },
  {
   "cell_type": "code",
   "execution_count": 21,
   "id": "09d73a83",
   "metadata": {},
   "outputs": [
    {
     "name": "stdout",
     "output_type": "stream",
     "text": [
      "\n",
      "Selected Features using RFE:\n",
      " Index(['Junction', 'Hour', 'DayOfWeek', 'Month', 'PreviousHourVehicles'], dtype='object')\n"
     ]
    }
   ],
   "source": [
    "# Step 3: Recursive Feature Elimination (RFE)\n",
    "rfe = RFE(estimator=RandomForestRegressor(), n_features_to_select=5)\n",
    "rfe.fit(X_imputed, y)  \n",
    "selected_features_rfe = X.columns[rfe.support_]\n",
    "print(\"\\nSelected Features using RFE:\\n\", selected_features_rfe)"
   ]
  },
  {
   "cell_type": "code",
   "execution_count": 22,
   "id": "0f309ef6",
   "metadata": {},
   "outputs": [
    {
     "name": "stdout",
     "output_type": "stream",
     "text": [
      "\n",
      "Selected Features using SelectKBest:\n",
      " Index(['Junction', 'Hour', 'DayOfWeek', 'PreviousHourVehicles', 'IsWeekend'], dtype='object')\n"
     ]
    }
   ],
   "source": [
    "# Step 4: SelectKBest\n",
    "skb = SelectKBest(score_func=f_regression, k=5)\n",
    "X_new = skb.fit_transform(X_imputed, y) \n",
    "selected_features_skb = X.columns[skb.get_support()]\n",
    "print(\"\\nSelected Features using SelectKBest:\\n\", selected_features_skb)"
   ]
  },
  {
   "cell_type": "code",
   "execution_count": 25,
   "id": "dd5669c5",
   "metadata": {},
   "outputs": [
    {
     "name": "stdout",
     "output_type": "stream",
     "text": [
      "Traffic data date range: 2015-01-11 to 2017-12-06\n",
      "Weather/event data date range: 2023-01-13 to 2023-12-25\n",
      "                     Junction  Vehicles           ID            DateTime  \\\n",
      "DateTime                                                                   \n",
      "2015-01-11 00:00:00         1        15  20151101001 2015-01-11 00:00:00   \n",
      "2015-01-11 01:00:00         1        13  20151101011 2015-01-11 01:00:00   \n",
      "2015-01-11 02:00:00         1        10  20151101021 2015-01-11 02:00:00   \n",
      "2015-01-11 03:00:00         1         7  20151101031 2015-01-11 03:00:00   \n",
      "2015-01-11 04:00:00         1         9  20151101041 2015-01-11 04:00:00   \n",
      "\n",
      "                     Hour  DayOfWeek  Month  PreviousHourVehicles  IsWeekend  \\\n",
      "DateTime                                                                       \n",
      "2015-01-11 00:00:00     0          6      1                   NaN          1   \n",
      "2015-01-11 01:00:00     1          6      1                  15.0          1   \n",
      "2015-01-11 02:00:00     2          6      1                  13.0          1   \n",
      "2015-01-11 03:00:00     3          6      1                  10.0          1   \n",
      "2015-01-11 04:00:00     4          6      1                   7.0          1   \n",
      "\n",
      "                           Date  \n",
      "DateTime                         \n",
      "2015-01-11 00:00:00  2015-01-11  \n",
      "2015-01-11 01:00:00  2015-01-11  \n",
      "2015-01-11 02:00:00  2015-01-11  \n",
      "2015-01-11 03:00:00  2015-01-11  \n",
      "2015-01-11 04:00:00  2015-01-11  \n",
      "         Event        Date Temperature Humidity  Pressure Wind Speed\n",
      "0       Diwali  2023-11-02       77 °F     65 %  29.11 in      3 mph\n",
      "1         Holi  2023-03-12       82 °F     35 %  29.11 in      3 mph\n",
      "2     Navratri  2023-09-21       86 °F     70 %  28.88 in      5 mph\n",
      "3   Durga Puja  2023-09-21       86 °F     70 %  28.88 in      5 mph\n",
      "4  Eid al-Fitr  2023-04-10       88 °F     17 %  29.05 in      3 mph\n",
      "Junction                    0\n",
      "Vehicles                    0\n",
      "ID                          0\n",
      "DateTime                    0\n",
      "Hour                        0\n",
      "DayOfWeek                   0\n",
      "Month                       0\n",
      "PreviousHourVehicles        1\n",
      "IsWeekend                   0\n",
      "Date                        0\n",
      "Event                   48120\n",
      "Temperature             48120\n",
      "Humidity                48120\n",
      "Pressure                48120\n",
      "Wind Speed              48120\n",
      "dtype: int64\n",
      "   Junction  Vehicles           ID            DateTime  Hour  DayOfWeek  \\\n",
      "0         1        15  20151101001 2015-01-11 00:00:00     0          6   \n",
      "1         1        13  20151101011 2015-01-11 01:00:00     1          6   \n",
      "2         1        10  20151101021 2015-01-11 02:00:00     2          6   \n",
      "3         1         7  20151101031 2015-01-11 03:00:00     3          6   \n",
      "4         1         9  20151101041 2015-01-11 04:00:00     4          6   \n",
      "\n",
      "   Month  PreviousHourVehicles  IsWeekend        Date Event Temperature  \\\n",
      "0      1                   NaN          1  2015-01-11   NaN         NaN   \n",
      "1      1                  15.0          1  2015-01-11   NaN         NaN   \n",
      "2      1                  13.0          1  2015-01-11   NaN         NaN   \n",
      "3      1                  10.0          1  2015-01-11   NaN         NaN   \n",
      "4      1                   7.0          1  2015-01-11   NaN         NaN   \n",
      "\n",
      "  Humidity Pressure Wind Speed  \n",
      "0      NaN      NaN        NaN  \n",
      "1      NaN      NaN        NaN  \n",
      "2      NaN      NaN        NaN  \n",
      "3      NaN      NaN        NaN  \n",
      "4      NaN      NaN        NaN  \n"
     ]
    }
   ],
   "source": [
    "# Ensure 'DateTime' column is in datetime format\n",
    "df['DateTime'] = pd.to_datetime(df['DateTime'])\n",
    "\n",
    "# Extract date from 'DateTime' for merging\n",
    "df['Date'] = df['DateTime'].dt.date\n",
    "\n",
    "# Load weather and event data\n",
    "df2 = pd.read_csv('WeatherEvent_data.csv', encoding='latin1')\n",
    "\n",
    "# Ensure 'Date' column is in datetime format\n",
    "df2['Date'] = pd.to_datetime(df2['Date'], format='%d/%m/%Y').dt.date\n",
    "\n",
    "# Verify the date range and distribution in both datasets\n",
    "print(f\"Traffic data date range: {df['Date'].min()} to {df['Date'].max()}\")\n",
    "print(f\"Weather/event data date range: {df2['Date'].min()} to {df2['Date'].max()}\")\n",
    "\n",
    "# Display first few rows of each dataset to inspect\n",
    "print(df.head())\n",
    "print(df2.head())\n",
    "\n",
    "# Merge traffic data with event/weather data on the 'Date' column\n",
    "merged_df = pd.merge(df, df2, on='Date', how='left')\n",
    "\n",
    "# Check for missing values in the merged DataFrame\n",
    "print(merged_df.isnull().sum())\n",
    "\n",
    "# Display the first few rows of the merged DataFrame\n",
    "print(merged_df.head())"
   ]
  },
  {
   "cell_type": "code",
   "execution_count": 26,
   "id": "975889d3",
   "metadata": {},
   "outputs": [
    {
     "name": "stdout",
     "output_type": "stream",
     "text": [
      "Junction                    0\n",
      "Vehicles                    0\n",
      "ID                          0\n",
      "DateTime                    0\n",
      "Hour                        0\n",
      "DayOfWeek                   0\n",
      "Month                       0\n",
      "PreviousHourVehicles        1\n",
      "IsWeekend                   0\n",
      "Date                        0\n",
      "Event                   48120\n",
      "Temperature             48120\n",
      "Humidity                48120\n",
      "Pressure                48120\n",
      "Wind Speed              48120\n",
      "dtype: int64\n"
     ]
    }
   ],
   "source": [
    "#Check for null values\n",
    "print(merged_df.isnull().sum())"
   ]
  },
  {
   "cell_type": "code",
   "execution_count": 30,
   "id": "6f8daf06",
   "metadata": {},
   "outputs": [
    {
     "name": "stdout",
     "output_type": "stream",
     "text": [
      "Junction                0.0\n",
      "Vehicles                0.0\n",
      "ID                      0.0\n",
      "DateTime                0.0\n",
      "Hour                    0.0\n",
      "DayOfWeek               0.0\n",
      "Month                   0.0\n",
      "PreviousHourVehicles    0.0\n",
      "IsWeekend               0.0\n",
      "Date                    0.0\n",
      "Event                   0.0\n",
      "Temperature             0.0\n",
      "Humidity                0.0\n",
      "Pressure                0.0\n",
      "Wind Speed              0.0\n",
      "dtype: float64\n"
     ]
    }
   ],
   "source": [
    "merged_df.fillna(merged_df.mean(numeric_only=True), inplace=True)\n",
    "merged_df.fillna('Unknown', inplace=True)\n",
    "\n",
    "print(merged_df.isnull().sum())"
   ]
  },
  {
   "cell_type": "code",
   "execution_count": 32,
   "id": "0e379ff8",
   "metadata": {},
   "outputs": [
    {
     "name": "stdout",
     "output_type": "stream",
     "text": [
      "Empty DataFrame\n",
      "Columns: [Junction, Vehicles, ID, DateTime, Hour, DayOfWeek, Month, PreviousHourVehicles, IsWeekend, Date, Event, Temperature, Humidity, Pressure, Wind Speed]\n",
      "Index: []\n",
      "Junction                0.0\n",
      "Vehicles                0.0\n",
      "ID                      0.0\n",
      "DateTime                0.0\n",
      "Hour                    0.0\n",
      "DayOfWeek               0.0\n",
      "Month                   0.0\n",
      "PreviousHourVehicles    0.0\n",
      "IsWeekend               0.0\n",
      "Date                    0.0\n",
      "Event                   0.0\n",
      "Temperature             0.0\n",
      "Humidity                0.0\n",
      "Pressure                0.0\n",
      "Wind Speed              0.0\n",
      "dtype: float64\n"
     ]
    }
   ],
   "source": [
    "# List of columns to be standardized\n",
    "columns_to_standardize = ['Vehicles', 'PreviousHourVehicles', 'Temperature', 'Humidity', 'Pressure', 'Wind Speed']\n",
    "\n",
    "# Check for missing values in the columns to be standardized\n",
    "if merged_df[columns_to_standardize].isnull().any().any():\n",
    "    print(\"Warning: Missing values found in columns to be standardized. Filling with mean values.\")\n",
    "    merged_df.fillna(merged_df[columns_to_standardize].mean(), inplace=True)\n",
    "\n",
    "# Create a StandardScaler object\n",
    "scaler = StandardScaler()\n",
    "\n",
    "# Standardize the columns if there are valid values\n",
    "if not merged_df[columns_to_standardize].empty:\n",
    "    merged_df[columns_to_standardize] = scaler.fit_transform(merged_df[columns_to_standardize])\n",
    "\n",
    "# Display the first few rows of the cleaned and standardized DataFrame\n",
    "print(merged_df.head())\n",
    "\n",
    "# Check for remaining missing values\n",
    "print(merged_df.isnull().sum())"
   ]
  },
  {
   "cell_type": "code",
   "execution_count": null,
   "id": "aabe9ddd",
   "metadata": {},
   "outputs": [],
   "source": []
  }
 ],
 "metadata": {
  "kernelspec": {
   "display_name": "Python 3 (ipykernel)",
   "language": "python",
   "name": "python3"
  },
  "language_info": {
   "codemirror_mode": {
    "name": "ipython",
    "version": 3
   },
   "file_extension": ".py",
   "mimetype": "text/x-python",
   "name": "python",
   "nbconvert_exporter": "python",
   "pygments_lexer": "ipython3",
   "version": "3.10.9"
  }
 },
 "nbformat": 4,
 "nbformat_minor": 5
}
